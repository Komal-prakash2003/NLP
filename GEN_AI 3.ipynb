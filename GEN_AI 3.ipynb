{
 "cells": [
  {
   "cell_type": "code",
   "execution_count": 2,
   "id": "9d296f23-4061-44e1-8a23-fbd3c8de7ce1",
   "metadata": {},
   "outputs": [],
   "source": [
    "#1. Create a Doc object from the file peterrabbit.txt\n",
    "import spacy\n",
    "nlp = spacy.load(\"en_core_web_sm\")\n",
    "with open(\"peterrabbit.txt\", \"r\", encoding=\"utf-8\") as file:\n",
    "    text = file.read()\n",
    "doc = nlp(text)"
   ]
  },
  {
   "cell_type": "code",
   "execution_count": 3,
   "id": "360f499f-c5c3-4de4-99aa-4388658c3b3e",
   "metadata": {},
   "outputs": [
    {
     "name": "stdout",
     "output_type": "stream",
     "text": [
      "They       PRON     PRP    pronoun, personal\n",
      "lived      VERB     VBD    verb, past tense\n",
      "with       ADP      IN     conjunction, subordinating or preposition\n",
      "their      PRON     PRP$   pronoun, possessive\n",
      "Mother     PROPN    NNP    noun, proper singular\n",
      "in         ADP      IN     conjunction, subordinating or preposition\n",
      "a          DET      DT     determiner\n",
      "sand       NOUN     NN     noun, singular or mass\n",
      "-          PUNCT    HYPH   punctuation mark, hyphen\n",
      "bank       NOUN     NN     noun, singular or mass\n",
      ",          PUNCT    ,      punctuation mark, comma\n",
      "underneath ADP      IN     conjunction, subordinating or preposition\n",
      "the        DET      DT     determiner\n",
      "root       NOUN     NN     noun, singular or mass\n",
      "of         ADP      IN     conjunction, subordinating or preposition\n",
      "a          DET      DT     determiner\n",
      "\n",
      "          SPACE    _SP    whitespace\n",
      "very       ADV      RB     adverb\n",
      "big        ADJ      JJ     adjective (English), other noun-modifier (Chinese)\n",
      "fir        NOUN     NN     noun, singular or mass\n",
      "-          PUNCT    HYPH   punctuation mark, hyphen\n",
      "tree       NOUN     NN     noun, singular or mass\n",
      ".          PUNCT    .      punctuation mark, sentence closer\n",
      "\n",
      "\n",
      "         SPACE    _SP    whitespace\n"
     ]
    }
   ],
   "source": [
    "#2. For every token in the third sentence, print the token text, the POS tag,the fine-grained TAG tag,\n",
    "    #and the description of the fine-grained tag.\n",
    "sentences = list(doc.sents)\n",
    "third_sentence = sentences[2]\n",
    "for token in third_sentence:\n",
    "    print(f'{token.text:{10}} {token.pos_:{8}} {token.tag_:{6}} {spacy.explain(token.tag_)}')"
   ]
  },
  {
   "cell_type": "code",
   "execution_count": 6,
   "id": "f47f4acb-a4af-484c-81df-5ee9131dc37b",
   "metadata": {},
   "outputs": [],
   "source": [
    "#3. Provide a frequency list of POS tags from the entire document.\n"
   ]
  },
  {
   "cell_type": "code",
   "execution_count": null,
   "id": "c25e8ab5-6fd2-4a11-926e-70d0b847e707",
   "metadata": {},
   "outputs": [],
   "source": [
    "#4. CHALLENGE: What percentage of tokens are nouns?"
   ]
  },
  {
   "cell_type": "code",
   "execution_count": null,
   "id": "9f794041-eb28-4f58-aaa3-1349e7ddbaa1",
   "metadata": {},
   "outputs": [],
   "source": [
    "#5. Display the Dependency Parse for the third sentence."
   ]
  },
  {
   "cell_type": "code",
   "execution_count": 8,
   "id": "eb5252e1-9f71-45d3-9b3e-3c5c4a8f1f4c",
   "metadata": {},
   "outputs": [
    {
     "name": "stdout",
     "output_type": "stream",
     "text": [
      "Text: Beatrix Potter's, Label: PERSON\n",
      "Text: The Tale of Peter Rabbit, Label: WORK_OF_ART\n"
     ]
    }
   ],
   "source": [
    "#6. Show the first two named entities from Beatrix Potter's The Tale of Peter Rabbit.\n",
    "doc = nlp(\"Beatrix Potter's The Tale of Peter Rabbit\")\n",
    "\n",
    "for ent in doc.ents[:2]:\n",
    "    print(f\"Text: {ent.text}, Label: {ent.label_}\")\n"
   ]
  },
  {
   "cell_type": "code",
   "execution_count": null,
   "id": "b8c031e0-515f-4c78-8262-2075c0426754",
   "metadata": {},
   "outputs": [],
   "source": [
    "#7. How many sentences are contained in The Tale of Peter Rabbit? "
   ]
  },
  {
   "cell_type": "code",
   "execution_count": null,
   "id": "3ae3a18b-2c09-4c70-867f-1749f881c0eb",
   "metadata": {},
   "outputs": [],
   "source": [
    "#8. CHALLENGE: How many sentences contain named entities?"
   ]
  },
  {
   "cell_type": "code",
   "execution_count": null,
   "id": "2521d73d-f635-4304-b967-28a47c05d422",
   "metadata": {},
   "outputs": [],
   "source": [
    "#9. Display the named entity visualization for list_of_sents[0] from the previous problem."
   ]
  }
 ],
 "metadata": {
  "kernelspec": {
   "display_name": "Python 3 (ipykernel)",
   "language": "python",
   "name": "python3"
  },
  "language_info": {
   "codemirror_mode": {
    "name": "ipython",
    "version": 3
   },
   "file_extension": ".py",
   "mimetype": "text/x-python",
   "name": "python",
   "nbconvert_exporter": "python",
   "pygments_lexer": "ipython3",
   "version": "3.12.4"
  }
 },
 "nbformat": 4,
 "nbformat_minor": 5
}
